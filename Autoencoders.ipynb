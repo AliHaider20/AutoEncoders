{
  "nbformat": 4,
  "nbformat_minor": 0,
  "metadata": {
    "colab": {
      "provenance": []
    },
    "kernelspec": {
      "name": "python3",
      "display_name": "Python 3"
    },
    "language_info": {
      "name": "python"
    },
    "gpuClass": "standard",
    "accelerator": "GPU"
  },
  "cells": [
    {
      "cell_type": "code",
      "source": [
        "import torch.nn as nn\n",
        "import torch\n",
        "from torch.utils.data import Dataset, DataLoader\n",
        "from torchvision.datasets import ImageFolder\n",
        "import matplotlib.pyplot as plt\n",
        "from torchvision import transforms as T\n",
        "from glob import glob\n",
        "from tqdm import tqdm\n",
        "import albumentations as A\n",
        "import numpy as np\n",
        "import torch.nn.functional as F\n",
        "from torchsummary import summary\n",
        "import seaborn as sns\n",
        "from albumentations.pytorch import ToTensorV2\n",
        "from PIL import Image\n",
        "from google.colab.patches import cv2_imshow\n",
        "import pandas as pd\n",
        "import os\n",
        "torch.manual_seed(0)\n",
        "\n",
        "from google.colab import drive\n",
        "drive.mount('/content/drive')"
      ],
      "metadata": {
        "id": "hoeZwVJtlqfr",
        "colab": {
          "base_uri": "https://localhost:8080/"
        },
        "outputId": "10afccdc-d24d-474b-cb0c-acde215c09fd"
      },
      "execution_count": null,
      "outputs": [
        {
          "output_type": "stream",
          "name": "stdout",
          "text": [
            "Mounted at /content/drive\n"
          ]
        }
      ]
    },
    {
      "cell_type": "code",
      "source": [
        "Img_size = 256\n",
        "batch_size = 20\n",
        "pin_memory = True\n",
        "num_workers = 2\n",
        "device = \"cuda\" if torch.cuda.is_available() else \"cpu\"\n",
        "\n",
        "class Transforms:\n",
        "    def __init__(self):\n",
        "        self.transforms = A.Compose(\n",
        "    [\n",
        "        A.Resize(Img_size, Img_size),\n",
        "        # A.Normalize(mean=(0.485, 0.456, 0.406), std=(0.229, 0.224, 0.225)),\n",
        "        # A.augmentations.dropout.cutout.Cutout(6),\n",
        "        ToTensorV2(),\n",
        "    ]\n",
        ")\n",
        "\n",
        "    def __call__(self, img, *args, **kwargs):\n",
        "        return self.transforms(image=np.array(img, np.float32))['image']\n"
      ],
      "metadata": {
        "id": "KXNce2Wplvdo"
      },
      "execution_count": null,
      "outputs": []
    },
    {
      "cell_type": "code",
      "source": [
        "def Otsu(img):\n",
        "    mean = img.mean()\n",
        "    img[img < mean] = 0\n",
        "    img[img > mean] = 1\n",
        "    return img\n",
        "\n",
        "transforms = T.Compose(\n",
        "    [T.ToTensor(),\n",
        "        T.Resize((Img_size, Img_size)),\n",
        "        T.RandomRotation(20),\n",
        "     T.RandomErasing(scale=(0.02, 0.1)),\n",
        "     Otsu\n",
        "    ])\n",
        "class Testdata(Dataset):\n",
        "    def __init__(self, directory, transforms):\n",
        "      self.files = glob(directory)\n",
        "      self.transform = transforms\n",
        "      self.dir = directory\n",
        "    def __len__(self):\n",
        "      return len(self.files)\n",
        "    def __getitem__(self, index):\n",
        "      file = self.files[index]\n",
        "      img = Image.open(os.path.join(self.dir, file)).convert('RGB')\n",
        "      img = self.transform(img)\n",
        "      return img, file\n",
        "\n",
        "full_dataset = ImageFolder(r\"/content/drive/MyDrive/SCTL/Train\", transform = transforms)\n",
        "test_ds = Testdata(\"/content/drive/MyDrive/SCTL/Test/Test/*.jpg\", transforms= transforms)\n",
        "train_size = int(0.8 * len(full_dataset))\n",
        "test_size = len(full_dataset) - train_size\n",
        "train_dataset, valid_dataset = torch.utils.data.random_split(full_dataset, [train_size, test_size])\n",
        "\n",
        "train_dl = DataLoader(train_dataset, batch_size=batch_size, shuffle=True, pin_memory=pin_memory)\n",
        "valid_dl = DataLoader(valid_dataset, batch_size=batch_size, shuffle=True, pin_memory=pin_memory)\n",
        "test_dl = DataLoader(test_ds, batch_size=batch_size, pin_memory=pin_memory)\n",
        "\n",
        "for img, lbl in train_dl:\n",
        "  break"
      ],
      "metadata": {
        "id": "YKKjt1zMl1Lf"
      },
      "execution_count": null,
      "outputs": []
    },
    {
      "cell_type": "code",
      "source": [
        "idx2class = {v: k for k, v in full_dataset.class_to_idx.items()}\n",
        "def get_class_distribution(dataset_obj):\n",
        "    count_dict = {k:0 for k,v in dataset_obj.class_to_idx.items()}\n",
        "    for _, label_id in dataset_obj:\n",
        "        label = idx2class[label_id]\n",
        "        count_dict[label] += 1\n",
        "    return count_dict\n",
        "def plot_from_dict(dict_obj, plot_title, **kwargs):\n",
        "    return sns.barplot(data = pd.DataFrame.from_dict([dict_obj]).melt(), x = \"variable\", y=\"value\", hue=\"variable\").set_title(plot_title)\n",
        "plt.figure(figsize=(10,5))\n",
        "class_dist = get_class_distribution(full_dataset)\n",
        "plot_from_dict(class_dist, plot_title=\"Entire Dataset (before train/val split)\")\n",
        "\n",
        "# Inverse class weights\n",
        "inverse_cls_dist = 1 - np.array(list(class_dist.values()), dtype=np.float32)/len(full_dataset)\n",
        "print(inverse_cls_dist)"
      ],
      "metadata": {
        "colab": {
          "base_uri": "https://localhost:8080/",
          "height": 368
        },
        "id": "-PwluoNVTCU4",
        "outputId": "d30d567c-b1ff-4b7a-ce7e-7b852988a789"
      },
      "execution_count": null,
      "outputs": [
        {
          "output_type": "stream",
          "name": "stdout",
          "text": [
            "[0.6083551  0.5726719  0.83724976 0.98172325]\n"
          ]
        },
        {
          "output_type": "display_data",
          "data": {
            "text/plain": [
              "<Figure size 720x360 with 1 Axes>"
            ],
            "image/png": "[encoded data removed]"
          },
          "metadata": {
            "needs_background": "light"
          }
        }
      ]
    },
    {
      "cell_type": "code",
      "source": [
        "class CNN_regressor(nn.Module):\n",
        "  def __init__(self):\n",
        "    super().__init__()\n",
        "    self.model = nn.Sequential( #3x256x256\n",
        "      nn.Conv2d(3, 8, 3, stride=2),\n",
        "      nn.Conv2d(8, 8, 3, stride=2),\n",
        "      nn.Conv2d(8, 16, 3, stride=2),\n",
        "      nn.Conv2d(16, 16, 3, stride=2, padding=1),\n",
        "      )\n",
        "    \n",
        "  def forward(self, img):\n",
        "    return self.model(img)\n",
        "\n",
        "regressor = CNN_regressor()\n",
        "regressor(img).shape\n"
      ],
      "metadata": {
        "colab": {
          "base_uri": "https://localhost:8080/"
        },
        "id": "mOa5hhmtfQqw",
        "outputId": "71d4705f-084a-40e7-a5ee-84f831200f03"
      },
      "execution_count": null,
      "outputs": [
        {
          "output_type": "execute_result",
          "data": {
            "text/plain": [
              "torch.Size([20, 16, 16, 16])"
            ]
          },
          "metadata": {},
          "execution_count": 5
        }
      ]
    },
    {
      "cell_type": "code",
      "source": [
        "class Encoder(nn.Module):\n",
        "  def __init__(self, in_channels, out_channels, kernel_size, stride, padding=0):\n",
        "    super().__init__()\n",
        "    self.encoder = nn.Sequential(\n",
        "        nn.Conv2d(in_channels=in_channels, out_channels = out_channels, kernel_size=kernel_size, stride=stride, padding=padding),\n",
        "        nn.BatchNorm2d(out_channels),\n",
        "        nn.MaxPool2d(kernel_size=(2, 2), stride=(2, 2), return_indices=True),\n",
        "    )\n",
        "  def forward(self, img):\n",
        "    return self.encoder(img)\n",
        "\n",
        "\n",
        "class CompleteAC(CNN_regressor):\n",
        "  def __init__(self):\n",
        "    super().__init__()\n",
        "    # super(CNN_regressor, self).__init__()\n",
        "    # self.latent_space = latent_space\n",
        "    # self.relu = nn.ReLU()\n",
        "    self.encoder = nn.Sequential( \n",
        "        nn.Conv2d(in_channels=3, out_channels = 16, kernel_size = 3, stride= 2, padding=1),\n",
        "        nn.BatchNorm2d(16),\n",
        "        nn.MaxPool2d(kernel_size = (2, 2), stride=(2, 2), return_indices=True),\n",
        "    )\n",
        "    self.encoder1 = nn.Sequential( \n",
        "        nn.Conv2d(in_channels=16, out_channels = 16, kernel_size = 3, stride= 2, padding=1),\n",
        "        nn.BatchNorm2d(16),\n",
        "        nn.MaxPool2d(kernel_size = (2, 2), stride=(2, 2), return_indices=True)\n",
        "    )\n",
        "    self.encoder2 = nn.Sequential( \n",
        "        nn.Conv2d(in_channels=16, out_channels = 16, kernel_size = 3, stride= 2, padding=1),\n",
        "        nn.BatchNorm2d(16),\n",
        "        nn.MaxPool2d(kernel_size = (2, 2), stride=(2, 2), return_indices=True)\n",
        "    )\n",
        "    self.unmax = nn.MaxUnpool2d(kernel_size = (2, 2), stride=(2, 2), padding=0)\n",
        "    self.encoderLinear = nn.Linear(16*16*16, 2000)\n",
        "    self.encoderLinear1 = nn.Linear(2000, 4)\n",
        "    self.deoderLinear = nn.Linear(4, 2000)\n",
        "    self.decoderLinear1 = nn.Linear(2000, 16*16*16)\n",
        "    self.decoder = nn.Sequential(\n",
        "        nn.ConvTranspose2d(in_channels=16, out_channels = 16, kernel_size = 3, stride=2, padding=1, output_padding=1),\n",
        "    )\n",
        "    self.decoder1 = nn.Sequential(\n",
        "        nn.ConvTranspose2d(in_channels=16, out_channels = 16, kernel_size = 3, stride=2, padding=1, output_padding=1),\n",
        "        nn.Softmax(dim=1)\n",
        "    )\n",
        "    self.decoder2 = nn.Sequential(\n",
        "        nn.ConvTranspose2d(in_channels=16, out_channels = 3, kernel_size = 3, stride=2, padding=1, output_padding=1),\n",
        "        nn.Softmax(dim=1)\n",
        "    )\n",
        "\n",
        "\n",
        "  def forward(self, img):\n",
        "    # Encoder block\n",
        "    latent, indices = self.encoder(img)\n",
        "    out = self.unmax(latent, indices)\n",
        "    latent1, indices1 = self.encoder1(out)\n",
        "    out = self.unmax(latent1, indices1)\n",
        "    regressor = self.model(img)\n",
        "    latent2, indices2 = self.encoder2(out)\n",
        "    regressor_latent = (regressor + latent2)/2\n",
        "    out = self.unmax(regressor_latent, indices2) \n",
        "    # Decoder blocks\n",
        "    # latent3 = self.encoder(out.flatten())\n",
        "    out = self.decoder(out)\n",
        "    out = self.decoder1(out)\n",
        "    return regressor_latent, self.decoder2(out) \n",
        "\n",
        "AE_model = CompleteAC().to(device)\n",
        "latent, out = AE_model(img.to(device))\n",
        "latent.shape, out.shape"
      ],
      "metadata": {
        "colab": {
          "base_uri": "https://localhost:8080/"
        },
        "id": "R0XgNNOP7dli",
        "outputId": "0e77d3fb-8149-4e38-819f-fd2141608b90"
      },
      "execution_count": null,
      "outputs": [
        {
          "output_type": "execute_result",
          "data": {
            "text/plain": [
              "(torch.Size([20, 16, 16, 16]), torch.Size([20, 3, 256, 256]))"
            ]
          },
          "metadata": {},
          "execution_count": 6
        }
      ]
    },
    {
      "cell_type": "code",
      "execution_count": null,
      "metadata": {
        "id": "vlx8i-vmAmb1",
        "colab": {
          "base_uri": "https://localhost:8080/",
          "height": 200
        },
        "outputId": "2c93588d-e2ef-493f-fa49-4ec4f36849ba"
      },
      "outputs": [
        {
          "output_type": "error",
          "ename": "AttributeError",
          "evalue": "ignored",
          "traceback": [
            "\u001b[0;31m---------------------------------------------------------------------------\u001b[0m",
            "\u001b[0;31mAttributeError\u001b[0m                            Traceback (most recent call last)",
            "\u001b[0;32m<ipython-input-17-b7b694f5735b>\u001b[0m in \u001b[0;36m<module>\u001b[0;34m\u001b[0m\n\u001b[1;32m     37\u001b[0m \u001b[0;34m\u001b[0m\u001b[0m\n\u001b[1;32m     38\u001b[0m \u001b[0mAE_model\u001b[0m \u001b[0;34m=\u001b[0m \u001b[0mCompleteAC\u001b[0m\u001b[0;34m(\u001b[0m\u001b[0;34m)\u001b[0m\u001b[0;34m.\u001b[0m\u001b[0mto\u001b[0m\u001b[0;34m(\u001b[0m\u001b[0mdevice\u001b[0m\u001b[0;34m)\u001b[0m\u001b[0;34m\u001b[0m\u001b[0;34m\u001b[0m\u001b[0m\n\u001b[0;32m---> 39\u001b[0;31m \u001b[0mAE_model\u001b[0m\u001b[0;34m(\u001b[0m\u001b[0mimg\u001b[0m\u001b[0;34m.\u001b[0m\u001b[0mto\u001b[0m\u001b[0;34m(\u001b[0m\u001b[0mdevice\u001b[0m\u001b[0;34m)\u001b[0m\u001b[0;34m)\u001b[0m\u001b[0;34m.\u001b[0m\u001b[0mshape\u001b[0m\u001b[0;34m\u001b[0m\u001b[0;34m\u001b[0m\u001b[0m\n\u001b[0m",
            "\u001b[0;31mAttributeError\u001b[0m: 'tuple' object has no attribute 'shape'"
          ]
        }
      ],
      "source": [
        "class CompleteAC(nn.Module):\n",
        "  def __init__(self):\n",
        "    super().__init__()\n",
        "    # self.latent_space = latent_space\n",
        "    self.encoder = nn.Sequential( # Image size Nx3x410x410\n",
        "        nn.Conv2d(in_channels=3, out_channels = 16, kernel_size = 3, stride= 2, padding=1),\n",
        "        nn.BatchNorm2d(16),\n",
        "        nn.ReLU(), # Img size 16x136x136\n",
        "        nn.Conv2d(in_channels=16, out_channels = 32, kernel_size = 3, stride=2, padding=1),\n",
        "        nn.BatchNorm2d(32),\n",
        "        nn.ReLU(), # Img size 16x44x44\n",
        "        nn.Conv2d(in_channels=32, out_channels = 64, kernel_size = 3, stride=3, padding=1),\n",
        "        nn.BatchNorm2d(64),\n",
        "        nn.ReLU(), # Img size 64x11x11\n",
        "        nn.Conv2d(in_channels=64, out_channels = 64, kernel_size = 3, stride=3, padding=1),\n",
        "        nn.BatchNorm2d(64),\n",
        "        nn.ReLU()\n",
        "    )\n",
        "\n",
        "    self.maxpool = nn.MaxPool2d(3, 1, 1)\n",
        "    self.unmaxpool = nn.MaxUnpool2d(3, 1, 1)\n",
        "    self.decoder = nn.Sequential(\n",
        "        nn.ConvTranspose2d(in_channels=64, out_channels = 64, kernel_size = 3, stride=3, padding=1),\n",
        "        nn.ReLU(),\n",
        "        nn.ConvTranspose2d(in_channels=64, out_channels = 32, kernel_size = 3, stride=3, padding=1, output_padding=1),\n",
        "        nn.ReLU(),\n",
        "        # nn.MaxUnpool2d(kernel_size = (2, 2), stride=(2, 2)),\n",
        "        nn.ConvTranspose2d(in_channels=32, out_channels = 16, kernel_size = 3 , stride=2, padding=1, output_padding=1),\n",
        "        nn.ReLU(),\n",
        "        # nn.MaxUnpool2d(kernel_size = (2, 2), stride=(2, 2)),\n",
        "        nn.ConvTranspose2d(in_channels=16, out_channels = 3, kernel_size = 3, stride=2, padding=1, output_padding=1),\n",
        "        nn.Softmax(dim=1)\n",
        "    )\n",
        "  def forward(self, img):\n",
        "    latent = self.encoder(img)\n",
        "    return latent, self.decoder(latent)\n",
        "\n",
        "AE_model = CompleteAC().to(device)\n",
        "AE_model(img.to(device)).shape"
      ]
    },
    {
      "cell_type": "code",
      "execution_count": null,
      "metadata": {
        "id": "p-MbVR47AmTk",
        "colab": {
          "base_uri": "https://localhost:8080/"
        },
        "outputId": "ac885647-859a-47d5-c0b7-05e9afac2f21"
      },
      "outputs": [
        {
          "output_type": "execute_result",
          "data": {
            "text/plain": [
              "(torch.Size([20, 16, 16, 16]), torch.Size([20, 3, 256, 256]))"
            ]
          },
          "metadata": {},
          "execution_count": 7
        }
      ],
      "source": [
        "# train_dl = DataLoader(full_dataset, batch_size=5, pin_memory=pin_memory, shuffle=True)\n",
        "for img, lbls in train_dl:\n",
        "  latent, out = AE_model(img.to(device))\n",
        "  break\n",
        "model = AE_model\n",
        "latent.shape, out.shape"
      ]
    },
    {
      "cell_type": "code",
      "execution_count": null,
      "metadata": {
        "colab": {
          "base_uri": "https://localhost:8080/",
          "height": 286
        },
        "id": "ZOAMgwp5AmPL",
        "outputId": "b4fed803-e855-4b67-9c25-c17c96ef9de6"
      },
      "outputs": [
        {
          "output_type": "execute_result",
          "data": {
            "text/plain": [
              "<matplotlib.image.AxesImage at 0x7f11063a5910>"
            ]
          },
          "metadata": {},
          "execution_count": 8
        },
        {
          "output_type": "display_data",
          "data": {
            "text/plain": [
              "<Figure size 432x288 with 1 Axes>"
            ],
            "image/png": "[encoded data removed]"
          },
          "metadata": {
            "needs_background": "light"
          }
        }
      ],
      "source": [
        "plt.imshow(out[0].detach().cpu().swapaxes(0, 2))"
      ]
    },
    {
      "cell_type": "markdown",
      "source": [
        "# Training regressor"
      ],
      "metadata": {
        "id": "bJE4qTVHfbms"
      }
    },
    {
      "cell_type": "code",
      "execution_count": null,
      "metadata": {
        "colab": {
          "base_uri": "https://localhost:8080/"
        },
        "id": "YpeEAWZGAmMO",
        "outputId": "fc0193bd-abe9-4201-bc97-c4240cfd61cf"
      },
      "outputs": [
        {
          "output_type": "stream",
          "name": "stderr",
          "text": [
            "100%|██████████| 46/46 [00:14<00:00,  3.22it/s]\n"
          ]
        },
        {
          "output_type": "stream",
          "name": "stdout",
          "text": [
            "Epoch 0: training loss is 0.24733778834342957\n"
          ]
        },
        {
          "output_type": "stream",
          "name": "stderr",
          "text": [
            "100%|██████████| 12/12 [00:03<00:00,  3.24it/s]\n"
          ]
        },
        {
          "output_type": "stream",
          "name": "stdout",
          "text": [
            "Epoch 0: valid loss is 0.22685645520687103\n"
          ]
        },
        {
          "output_type": "stream",
          "name": "stderr",
          "text": [
            "100%|██████████| 46/46 [00:13<00:00,  3.38it/s]\n"
          ]
        },
        {
          "output_type": "stream",
          "name": "stdout",
          "text": [
            "Epoch 1: training loss is 0.22590507566928864\n"
          ]
        },
        {
          "output_type": "stream",
          "name": "stderr",
          "text": [
            "100%|██████████| 12/12 [00:03<00:00,  3.35it/s]\n"
          ]
        },
        {
          "output_type": "stream",
          "name": "stdout",
          "text": [
            "Epoch 1: valid loss is 0.2178400605916977\n"
          ]
        },
        {
          "output_type": "stream",
          "name": "stderr",
          "text": [
            "100%|██████████| 46/46 [00:13<00:00,  3.38it/s]\n"
          ]
        },
        {
          "output_type": "stream",
          "name": "stdout",
          "text": [
            "Epoch 2: training loss is 0.2091185301542282\n"
          ]
        },
        {
          "output_type": "stream",
          "name": "stderr",
          "text": [
            "100%|██████████| 12/12 [00:03<00:00,  3.77it/s]\n"
          ]
        },
        {
          "output_type": "stream",
          "name": "stdout",
          "text": [
            "Epoch 2: valid loss is 0.19704021513462067\n"
          ]
        },
        {
          "output_type": "stream",
          "name": "stderr",
          "text": [
            "100%|██████████| 46/46 [00:15<00:00,  3.05it/s]\n"
          ]
        },
        {
          "output_type": "stream",
          "name": "stdout",
          "text": [
            "Epoch 3: training loss is 0.21790802478790283\n"
          ]
        },
        {
          "output_type": "stream",
          "name": "stderr",
          "text": [
            "100%|██████████| 12/12 [00:03<00:00,  3.81it/s]\n"
          ]
        },
        {
          "output_type": "stream",
          "name": "stdout",
          "text": [
            "Epoch 3: valid loss is 0.21953371167182922\n"
          ]
        },
        {
          "output_type": "stream",
          "name": "stderr",
          "text": [
            "100%|██████████| 46/46 [00:13<00:00,  3.38it/s]\n"
          ]
        },
        {
          "output_type": "stream",
          "name": "stdout",
          "text": [
            "Epoch 4: training loss is 0.22121283411979675\n"
          ]
        },
        {
          "output_type": "stream",
          "name": "stderr",
          "text": [
            "100%|██████████| 12/12 [00:03<00:00,  3.50it/s]\n"
          ]
        },
        {
          "output_type": "stream",
          "name": "stdout",
          "text": [
            "Epoch 4: valid loss is 0.21346719563007355\n"
          ]
        },
        {
          "output_type": "stream",
          "name": "stderr",
          "text": [
            "100%|██████████| 46/46 [00:13<00:00,  3.38it/s]\n"
          ]
        },
        {
          "output_type": "stream",
          "name": "stdout",
          "text": [
            "Epoch 5: training loss is 0.21424739062786102\n"
          ]
        },
        {
          "output_type": "stream",
          "name": "stderr",
          "text": [
            "100%|██████████| 12/12 [00:04<00:00,  2.59it/s]\n"
          ]
        },
        {
          "output_type": "stream",
          "name": "stdout",
          "text": [
            "Epoch 5: valid loss is 0.2142540067434311\n"
          ]
        },
        {
          "output_type": "stream",
          "name": "stderr",
          "text": [
            "100%|██████████| 46/46 [00:13<00:00,  3.32it/s]\n"
          ]
        },
        {
          "output_type": "stream",
          "name": "stdout",
          "text": [
            "Epoch 6: training loss is 0.2184825837612152\n"
          ]
        },
        {
          "output_type": "stream",
          "name": "stderr",
          "text": [
            "100%|██████████| 12/12 [00:03<00:00,  3.58it/s]\n"
          ]
        },
        {
          "output_type": "stream",
          "name": "stdout",
          "text": [
            "Epoch 6: valid loss is 0.21298129856586456\n"
          ]
        },
        {
          "output_type": "stream",
          "name": "stderr",
          "text": [
            "100%|██████████| 46/46 [00:14<00:00,  3.09it/s]\n"
          ]
        },
        {
          "output_type": "stream",
          "name": "stdout",
          "text": [
            "Epoch 7: training loss is 0.20509417355060577\n"
          ]
        },
        {
          "output_type": "stream",
          "name": "stderr",
          "text": [
            "100%|██████████| 12/12 [00:03<00:00,  3.80it/s]\n"
          ]
        },
        {
          "output_type": "stream",
          "name": "stdout",
          "text": [
            "Epoch 7: valid loss is 0.22788752615451813\n"
          ]
        },
        {
          "output_type": "stream",
          "name": "stderr",
          "text": [
            "100%|██████████| 46/46 [00:13<00:00,  3.38it/s]\n"
          ]
        },
        {
          "output_type": "stream",
          "name": "stdout",
          "text": [
            "Epoch 8: training loss is 0.20099744200706482\n"
          ]
        },
        {
          "output_type": "stream",
          "name": "stderr",
          "text": [
            "100%|██████████| 12/12 [00:03<00:00,  3.74it/s]\n"
          ]
        },
        {
          "output_type": "stream",
          "name": "stdout",
          "text": [
            "Epoch 8: valid loss is 0.21221986413002014\n"
          ]
        },
        {
          "output_type": "stream",
          "name": "stderr",
          "text": [
            "100%|██████████| 46/46 [00:13<00:00,  3.38it/s]\n"
          ]
        },
        {
          "output_type": "stream",
          "name": "stdout",
          "text": [
            "Epoch 9: training loss is 0.208070769906044\n"
          ]
        },
        {
          "output_type": "stream",
          "name": "stderr",
          "text": [
            "100%|██████████| 12/12 [00:03<00:00,  3.40it/s]\n"
          ]
        },
        {
          "output_type": "stream",
          "name": "stdout",
          "text": [
            "Epoch 9: valid loss is 0.20652349293231964\n"
          ]
        },
        {
          "output_type": "stream",
          "name": "stderr",
          "text": [
            "100%|██████████| 46/46 [00:13<00:00,  3.31it/s]\n"
          ]
        },
        {
          "output_type": "stream",
          "name": "stdout",
          "text": [
            "Epoch 10: training loss is 0.2130240499973297\n"
          ]
        },
        {
          "output_type": "stream",
          "name": "stderr",
          "text": [
            "100%|██████████| 12/12 [00:03<00:00,  3.26it/s]\n"
          ]
        },
        {
          "output_type": "stream",
          "name": "stdout",
          "text": [
            "Epoch 10: valid loss is 0.2078007161617279\n"
          ]
        },
        {
          "output_type": "stream",
          "name": "stderr",
          "text": [
            "100%|██████████| 46/46 [00:14<00:00,  3.09it/s]\n"
          ]
        },
        {
          "output_type": "stream",
          "name": "stdout",
          "text": [
            "Epoch 11: training loss is 0.2032022625207901\n"
          ]
        },
        {
          "output_type": "stream",
          "name": "stderr",
          "text": [
            "100%|██████████| 12/12 [00:03<00:00,  3.74it/s]\n"
          ]
        },
        {
          "output_type": "stream",
          "name": "stdout",
          "text": [
            "Epoch 11: valid loss is 0.23096860945224762\n"
          ]
        },
        {
          "output_type": "stream",
          "name": "stderr",
          "text": [
            "100%|██████████| 46/46 [00:13<00:00,  3.39it/s]\n"
          ]
        },
        {
          "output_type": "stream",
          "name": "stdout",
          "text": [
            "Epoch 12: training loss is 0.20781241357326508\n"
          ]
        },
        {
          "output_type": "stream",
          "name": "stderr",
          "text": [
            "100%|██████████| 12/12 [00:03<00:00,  3.76it/s]\n"
          ]
        },
        {
          "output_type": "stream",
          "name": "stdout",
          "text": [
            "Epoch 12: valid loss is 0.2276863157749176\n"
          ]
        },
        {
          "output_type": "stream",
          "name": "stderr",
          "text": [
            "100%|██████████| 46/46 [00:13<00:00,  3.37it/s]\n"
          ]
        },
        {
          "output_type": "stream",
          "name": "stdout",
          "text": [
            "Epoch 13: training loss is 0.21363142132759094\n"
          ]
        },
        {
          "output_type": "stream",
          "name": "stderr",
          "text": [
            "100%|██████████| 12/12 [00:03<00:00,  3.76it/s]\n"
          ]
        },
        {
          "output_type": "stream",
          "name": "stdout",
          "text": [
            "Epoch 13: valid loss is 0.21624267101287842\n"
          ]
        },
        {
          "output_type": "stream",
          "name": "stderr",
          "text": [
            "100%|██████████| 46/46 [00:13<00:00,  3.31it/s]\n"
          ]
        },
        {
          "output_type": "stream",
          "name": "stdout",
          "text": [
            "Epoch 14: training loss is 0.2074694037437439\n"
          ]
        },
        {
          "output_type": "stream",
          "name": "stderr",
          "text": [
            "100%|██████████| 12/12 [00:04<00:00,  2.98it/s]"
          ]
        },
        {
          "output_type": "stream",
          "name": "stdout",
          "text": [
            "Epoch 14: valid loss is 0.1952235996723175\n"
          ]
        },
        {
          "output_type": "stream",
          "name": "stderr",
          "text": [
            "\n"
          ]
        }
      ],
      "source": [
        "model = AE_model\n",
        "num_epochs = 15\n",
        "learning_rate = 1e-2\n",
        "opt = torch.optim.Adam(model.parameters(), lr=learning_rate)\n",
        "ceLoss = nn.CrossEntropyLoss()\n",
        "mse = nn.MSELoss() \n",
        "training_loss = []\n",
        "valid_loss = []\n",
        "valid_acc = []\n",
        "train_acc = []\n",
        "latent_features = []\n",
        "\n",
        "\n",
        "for epoch in range(num_epochs):\n",
        "# Training loop\n",
        "    model.train(True)\n",
        "    correct = 0\n",
        "    for X, y in tqdm(train_dl):  \n",
        "        X, y = X.to(device), y.to(device)\n",
        "        opt.zero_grad()\n",
        "        latent, yhat = model(X)\n",
        "        # yhat = model(X) \n",
        "        # loss = mse(yhat, X)*0.4 + ceLoss(yhat, X) * 0.6\n",
        "        loss = mse(yhat, X)\n",
        "        # Apply backprop \n",
        "        loss.backward() \n",
        "        opt.step() \n",
        "    training_loss.append(loss.item())\n",
        "    \n",
        "    print(f\"Epoch {epoch}: training loss is {loss.item()}\")\n",
        "    \n",
        "    model.eval()\n",
        "\n",
        "# Valid loop\n",
        "    correct = 0\n",
        "    for batch in tqdm(valid_dl):\n",
        "        X, y = batch \n",
        "        X, y = X.to(device), y.to(device) \n",
        "        latent, yhat = model(X)\n",
        "        # yhat = model(X) \n",
        "        loss = mse(yhat, X)\n",
        "        # loss = mse(yhat, X)*0.4 + ceLoss(yhat, X) * 0.6\n",
        "\n",
        "         \n",
        "    print(f\"Epoch {epoch}: valid loss is {loss.item()}\")\n",
        "    valid_loss.append(loss.item())"
      ]
    },
    {
      "cell_type": "code",
      "execution_count": null,
      "metadata": {
        "colab": {
          "base_uri": "https://localhost:8080/",
          "height": 265
        },
        "id": "K4ZseL_xvu8k",
        "outputId": "89f4ad66-1cb3-4e03-be4f-58f4029e8735"
      },
      "outputs": [
        {
          "output_type": "display_data",
          "data": {
            "text/plain": [
              "<Figure size 432x288 with 1 Axes>"
            ],
            "image/png": "[encoded data removed]"
          },
          "metadata": {
            "needs_background": "light"
          }
        }
      ],
      "source": [
        "plt.plot(training_loss, label='Training loss')\n",
        "plt.plot(valid_loss, label='Valid loss')\n",
        "plt.legend(loc='upper left', title='Loss');"
      ]
    },
    {
      "cell_type": "code",
      "execution_count": null,
      "metadata": {
        "colab": {
          "base_uri": "https://localhost:8080/",
          "height": 236
        },
        "id": "4ybv4u4ZudyB",
        "outputId": "6dc049a8-3f08-4690-a173-b27845f0a617"
      },
      "outputs": [
        {
          "output_type": "execute_result",
          "data": {
            "text/plain": [
              "<matplotlib.image.AxesImage at 0x7f110055a040>"
            ]
          },
          "metadata": {},
          "execution_count": 11
        },
        {
          "output_type": "display_data",
          "data": {
            "text/plain": [
              "<Figure size 432x288 with 1 Axes>"
            ],
            "image/png": "[encoded data removed]"
          },
          "metadata": {
            "needs_background": "light"
          }
        }
      ],
      "source": [
        "for img, lbl in train_dl:\n",
        "  out = model(img.to(device))\n",
        "  latent, outimg = out[0][0], out[1][1]\n",
        "  latent_features.append(latent)\n",
        "  break\n",
        "\n",
        "plt.imshow(np.hstack([img[0].cpu().swapaxes(0, 2), outimg.detach().cpu().swapaxes(0, 2)]))\n"
      ]
    },
    {
      "cell_type": "markdown",
      "source": [
        "### Creating training and testing features"
      ],
      "metadata": {
        "id": "XrlxyCtqQuZ1"
      }
    },
    {
      "cell_type": "code",
      "execution_count": null,
      "metadata": {
        "id": "3FlJHHfg8LEz"
      },
      "outputs": [],
      "source": [
        "train_features  = []\n",
        "lbls = []\n",
        "for img, lbl in train_dl:\n",
        "  latent, out = model(img.to(device))\n",
        "  lbls.extend(lbl.flatten().tolist() )\n",
        "  train_features.extend(latent.flatten(start_dim=1).tolist())\n",
        "\n",
        "test_features  = []\n",
        "files = [] \n",
        "for img, file in test_dl:\n",
        "  latent, out = model(img.to(device))\n",
        "  files.extend(list(file) )\n",
        "  test_features.extend(latent.flatten(start_dim=1).tolist())"
      ]
    },
    {
      "cell_type": "code",
      "execution_count": null,
      "metadata": {
        "id": "_CiRpKm3Q0rn",
        "colab": {
          "base_uri": "https://localhost:8080/",
          "height": 206
        },
        "outputId": "fd66c7c8-7faf-4bb0-a584-4ec1c8eebae0"
      },
      "outputs": [
        {
          "output_type": "execute_result",
          "data": {
            "text/plain": [
              "                                      Image features  class\n",
              "0  [-0.5427229404449463, -0.5759631991386414, -0....      1\n",
              "1  [-0.47104331851005554, 2.053551197052002, -0.1...      1\n",
              "2  [1.3210382461547852, 2.128032684326172, 1.3659...      1\n",
              "3  [-0.3602038025856018, 1.9453554153442383, 2.59...      0\n",
              "4  [-0.42546939849853516, -0.37368685007095337, -...      2"
            ],
            "text/html": [
              "\n",
              "  <div id=\"df-f29ac5eb-7575-4c11-8c38-9020dbf3f45c\">\n",
              "    <div class=\"colab-df-container\">\n",
              "      <div>\n",
              "<style scoped>\n",
              "    .dataframe tbody tr th:only-of-type {\n",
              "        vertical-align: middle;\n",
              "    }\n",
              "\n",
              "    .dataframe tbody tr th {\n",
              "        vertical-align: top;\n",
              "    }\n",
              "\n",
              "    .dataframe thead th {\n",
              "        text-align: right;\n",
              "    }\n",
              "</style>\n",
              "<table border=\"1\" class=\"dataframe\">\n",
              "  <thead>\n",
              "    <tr style=\"text-align: right;\">\n",
              "      <th></th>\n",
              "      <th>Image features</th>\n",
              "      <th>class</th>\n",
              "    </tr>\n",
              "  </thead>\n",
              "  <tbody>\n",
              "    <tr>\n",
              "      <th>0</th>\n",
              "      <td>[-0.5427229404449463, -0.5759631991386414, -0....</td>\n",
              "      <td>1</td>\n",
              "    </tr>\n",
              "    <tr>\n",
              "      <th>1</th>\n",
              "      <td>[-0.47104331851005554, 2.053551197052002, -0.1...</td>\n",
              "      <td>1</td>\n",
              "    </tr>\n",
              "    <tr>\n",
              "      <th>2</th>\n",
              "      <td>[1.3210382461547852, 2.128032684326172, 1.3659...</td>\n",
              "      <td>1</td>\n",
              "    </tr>\n",
              "    <tr>\n",
              "      <th>3</th>\n",
              "      <td>[-0.3602038025856018, 1.9453554153442383, 2.59...</td>\n",
              "      <td>0</td>\n",
              "    </tr>\n",
              "    <tr>\n",
              "      <th>4</th>\n",
              "      <td>[-0.42546939849853516, -0.37368685007095337, -...</td>\n",
              "      <td>2</td>\n",
              "    </tr>\n",
              "  </tbody>\n",
              "</table>\n",
              "</div>\n",
              "      <button class=\"colab-df-convert\" onclick=\"convertToInteractive('df-f29ac5eb-7575-4c11-8c38-9020dbf3f45c')\"\n",
              "              title=\"Convert this dataframe to an interactive table.\"\n",
              "              style=\"display:none;\">\n",
              "        \n",
              "  <svg xmlns=\"http://www.w3.org/2000/svg\" height=\"24px\"viewBox=\"0 0 24 24\"\n",
              "       width=\"24px\">\n",
              "    <path d=\"M0 0h24v24H0V0z\" fill=\"none\"/>\n",
              "    <path d=\"M18.56 5.44l.94 2.06.94-2.06 2.06-.94-2.06-.94-.94-2.06-.94 2.06-2.06.94zm-11 1L8.5 8.5l.94-2.06 2.06-.94-2.06-.94L8.5 2.5l-.94 2.06-2.06.94zm10 10l.94 2.06.94-2.06 2.06-.94-2.06-.94-.94-2.06-.94 2.06-2.06.94z\"/><path d=\"M17.41 7.96l-1.37-1.37c-.4-.4-.92-.59-1.43-.59-.52 0-1.04.2-1.43.59L10.3 9.45l-7.72 7.72c-.78.78-.78 2.05 0 2.83L4 21.41c.39.39.9.59 1.41.59.51 0 1.02-.2 1.41-.59l7.78-7.78 2.81-2.81c.8-.78.8-2.07 0-2.86zM5.41 20L4 18.59l7.72-7.72 1.47 1.35L5.41 20z\"/>\n",
              "  </svg>\n",
              "      </button>\n",
              "      \n",
              "  <style>\n",
              "    .colab-df-container {\n",
              "      display:flex;\n",
              "      flex-wrap:wrap;\n",
              "      gap: 12px;\n",
              "    }\n",
              "\n",
              "    .colab-df-convert {\n",
              "      background-color: #E8F0FE;\n",
              "      border: none;\n",
              "      border-radius: 50%;\n",
              "      cursor: pointer;\n",
              "      display: none;\n",
              "      fill: #1967D2;\n",
              "      height: 32px;\n",
              "      padding: 0 0 0 0;\n",
              "      width: 32px;\n",
              "    }\n",
              "\n",
              "    .colab-df-convert:hover {\n",
              "      background-color: #E2EBFA;\n",
              "      box-shadow: 0px 1px 2px rgba(60, 64, 67, 0.3), 0px 1px 3px 1px rgba(60, 64, 67, 0.15);\n",
              "      fill: #174EA6;\n",
              "    }\n",
              "\n",
              "    [theme=dark] .colab-df-convert {\n",
              "      background-color: #3B4455;\n",
              "      fill: #D2E3FC;\n",
              "    }\n",
              "\n",
              "    [theme=dark] .colab-df-convert:hover {\n",
              "      background-color: #434B5C;\n",
              "      box-shadow: 0px 1px 3px 1px rgba(0, 0, 0, 0.15);\n",
              "      filter: drop-shadow(0px 1px 2px rgba(0, 0, 0, 0.3));\n",
              "      fill: #FFFFFF;\n",
              "    }\n",
              "  </style>\n",
              "\n",
              "      <script>\n",
              "        const buttonEl =\n",
              "          document.querySelector('#df-f29ac5eb-7575-4c11-8c38-9020dbf3f45c button.colab-df-convert');\n",
              "        buttonEl.style.display =\n",
              "          google.colab.kernel.accessAllowed ? 'block' : 'none';\n",
              "\n",
              "        async function convertToInteractive(key) {\n",
              "          const element = document.querySelector('#df-f29ac5eb-7575-4c11-8c38-9020dbf3f45c');\n",
              "          const dataTable =\n",
              "            await google.colab.kernel.invokeFunction('convertToInteractive',\n",
              "                                                     [key], {});\n",
              "          if (!dataTable) return;\n",
              "\n",
              "          const docLinkHtml = 'Like what you see? Visit the ' +\n",
              "            '<a target=\"_blank\" href=https://colab.research.google.com/notebooks/data_table.ipynb>data table notebook</a>'\n",
              "            + ' to learn more about interactive tables.';\n",
              "          element.innerHTML = '';\n",
              "          dataTable['output_type'] = 'display_data';\n",
              "          await google.colab.output.renderOutput(dataTable, element);\n",
              "          const docLink = document.createElement('div');\n",
              "          docLink.innerHTML = docLinkHtml;\n",
              "          element.appendChild(docLink);\n",
              "        }\n",
              "      </script>\n",
              "    </div>\n",
              "  </div>\n",
              "  "
            ]
          },
          "metadata": {},
          "execution_count": 13
        }
      ],
      "source": [
        "pd.DataFrame({\"Image features\": train_features, \"class\": lbls}).head()"
      ]
    },
    {
      "cell_type": "code",
      "execution_count": null,
      "metadata": {
        "id": "X4eFpQdTGQs4"
      },
      "outputs": [],
      "source": [
        "from sklearn.svm import SVC\n",
        "from sklearn.linear_model import LogisticRegression\n",
        "from sklearn.neighbors import KNeighborsClassifier\n",
        "\n",
        "knn = KNeighborsClassifier(n_neighbors=4).fit(train_features, lbls)\n",
        "knn_preds = knn.predict(test_features)\n",
        "svc = SVC().fit(train_features, lbls)\n",
        "svc_preds = svc.predict(test_features)"
      ]
    },
    {
      "cell_type": "markdown",
      "source": [
        "# SVC test accuracy"
      ],
      "metadata": {
        "id": "rSP1fdYC1o-R"
      }
    },
    {
      "cell_type": "code",
      "source": [
        "submission = pd.DataFrame({'File': files, \"Pred\": svc_preds})\n",
        "submission.File = submission.File.apply(lambda x: x.split(\"/\")[-1])\n",
        "submission.to_csv(\"AE_SVC_submission.csv\", index=False, header=None)"
      ],
      "metadata": {
        "id": "DlPWDLA11mHG"
      },
      "execution_count": null,
      "outputs": []
    },
    {
      "cell_type": "markdown",
      "source": [
        "![image.png](data:image/png;base64,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)"
      ],
      "metadata": {
        "id": "b3qZZepg-Sj7"
      }
    },
    {
      "cell_type": "markdown",
      "source": [
        "# KNN test accuracy"
      ],
      "metadata": {
        "id": "IL0Jhk-w1uoK"
      }
    },
    {
      "cell_type": "code",
      "source": [
        "submission = pd.DataFrame({'File': files, \"Pred\": knn_preds})\n",
        "submission.File = submission.File.apply(lambda x: x.split(\"/\")[-1])\n",
        "submission.to_csv(\"AE_KNN_submission.csv\", index=False, header=None)"
      ],
      "metadata": {
        "id": "vFVtuEF2QpSF"
      },
      "execution_count": null,
      "outputs": []
    },
    {
      "cell_type": "markdown",
      "source": [
        "![image.png](data:image/png;base64,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)"
      ],
      "metadata": {
        "id": "-15j_rWt-Uf7"
      }
    },
    {
      "cell_type": "markdown",
      "source": [
        "# Using Pre-trained model\n"
      ],
      "metadata": {
        "id": "eky18Vf8nr9k"
      }
    },
    {
      "cell_type": "code",
      "source": [
        "import torchvision\n",
        "from torchvision import models \n",
        "pretrained_model = torchvision.models.resnet50(pretrained=True)\n",
        "class ResNet50_Linear(nn.Module):\n",
        "    def __init__(self, pretrained_model):\n",
        "        super(ResNet50_Linear, self).__init__()\n",
        "        self.pretrained = pretrained_model\n",
        "        self.new_layers = nn.Sequential(nn.Linear(1000, 100),\n",
        "                                           nn.ReLU(),\n",
        "                                           nn.Linear(100, 4))\n",
        "        \n",
        "    def forward(self, x):\n",
        "        x = self.pretrained(x)\n",
        "        x = self.new_layers(x)\n",
        "        return x\n",
        "\n",
        "model = ResNet50_Linear(pretrained_model=pretrained_model).to(device)"
      ],
      "metadata": {
        "id": "ZsuK5qzhnrWQ"
      },
      "execution_count": null,
      "outputs": []
    },
    {
      "cell_type": "code",
      "source": [
        "class FocalLoss(nn.Module):\n",
        "    def __init__(self, gamma=2, weight=None, reduction='sum'):\n",
        "        super(FocalLoss, self).__init__()\n",
        "        self.gamma = gamma\n",
        "        self.weight = weight\n",
        "        self.reduction = reduction\n",
        "\n",
        "    def forward(self, input, target):\n",
        "        ce_loss = F.cross_entropy(input, target, reduction='none')\n",
        "        pt = torch.exp(-ce_loss)\n",
        "        focal_loss = (1 - pt) ** self.gamma * ce_loss\n",
        "\n",
        "        if self.weight is not None:\n",
        "            focal_loss = focal_loss * self.weight\n",
        "\n",
        "        if self.reduction == 'mean':\n",
        "            return focal_loss.mean()\n",
        "        elif self.reduction == 'sum':\n",
        "            return focal_loss.sum()\n",
        "        else:\n",
        "            return focal_loss\n"
      ],
      "metadata": {
        "id": "XVW1sUMl2kMf"
      },
      "execution_count": null,
      "outputs": []
    },
    {
      "cell_type": "code",
      "source": [
        "num_epochs = 15\n",
        "learning_rate = 0.001\n",
        "# clf = stackedm\n",
        "opt = torch.optim.Adam(model.parameters(), lr=learning_rate)\n",
        "# loss1 = nn.CrossEntropyLoss(weight=torch.tensor(inverse_cls_dist).to(device))\n",
        "loss1 = nn.CrossEntropyLoss() \n",
        "# criterion = nn.NLLLoss()\n",
        "loss2 = FocalLoss(gamma=2.5) # Focal loss is used to calculate loss when the dataset is imbalanced\n",
        "training_loss = []\n",
        "valid_loss = []\n",
        "valid_acc = []\n",
        "train_acc = []\n",
        "\n",
        "the_last_loss = 100\n",
        "patience = 2\n",
        "trigger_times = 0\n",
        "\n",
        "best_accuracy = 0.2\n",
        "for epoch in range(1, num_epochs+1):\n",
        "# Training loop\n",
        "    model.train(True)\n",
        "    correct = 0\n",
        "    for X, y in tqdm(train_dl):  \n",
        "        X, y = X.to(device), y.to(device) \n",
        "        opt.zero_grad()\n",
        "        yhat = model(X) \n",
        "        loss = (loss1(yhat, y)*0.4) + (loss2(yhat, y)*0.6)\n",
        "        # Apply backprop \n",
        "        loss.backward()\n",
        "        opt.step() \n",
        "        correct += (torch.argmax(yhat, dim=1) == y).float().sum().detach().cpu()\n",
        "    accuracy = 100 * correct / len(train_dataset)\n",
        "    train_acc.append(accuracy)    \n",
        "    training_loss.append(loss.item())\n",
        "    print(f\"Epoch:{epoch} training accuracy is {accuracy}\")\n",
        "    print(f\"Epoch:{epoch} training loss is {loss.item()}\")\n",
        "    \n",
        "    model.train(False)\n",
        "\n",
        "    # Valid loop\n",
        "    correct = 0\n",
        "    with torch.no_grad():\n",
        "        for X, y in tqdm(valid_dl): \n",
        "            X, y = X.to(device), y.to(device) \n",
        "            yhat = model(X) \n",
        "            loss = (loss1(yhat, y)*0.4) + (loss2(yhat, y)*0.6) \n",
        "            correct += (torch.argmax(yhat, dim=1) == y).float().sum().detach().cpu()\n",
        "        accuracy = 100 * correct / len(valid_dataset)\n",
        "        valid_acc.append(accuracy)\n",
        "        valid_loss.append(loss.item())    \n",
        "        print(f\"Epoch:{epoch} valid accuracy is {accuracy}\") \n",
        "        print(f\"Epoch:{epoch} valid loss is {loss.item()}\")\n",
        "\n",
        "        if accuracy > best_accuracy:\n",
        "          best_accuracy = accuracy\n",
        "          torch.save(model.state_dict(), f\"model_{accuracy}_.pt\")\n",
        "    # Early stopping\n",
        "    if loss > the_last_loss:\n",
        "      trigger_times += 1\n",
        "    if trigger_times > 0 and loss < the_last_loss:\n",
        "      trigger_times -= 1\n",
        "    if trigger_times == patience:\n",
        "      break\n",
        "    the_last_loss = loss\n",
        "    print(\"Trigger: \", trigger_times)\n",
        "    print(\"-\"*50)\n",
        "print(\"Training complete\")"
      ],
      "metadata": {
        "id": "x5kqFTmVoE-1"
      },
      "execution_count": null,
      "outputs": []
    },
    {
      "cell_type": "code",
      "source": [
        "plt.plot(training_loss,label='Training loss')\n",
        "plt.plot(valid_loss, label='Valid loss')\n",
        "plt.legend(loc='upper left', title='Loss');"
      ],
      "metadata": {
        "id": "F6c4lBgo3p0-"
      },
      "execution_count": null,
      "outputs": []
    },
    {
      "cell_type": "code",
      "source": [
        "plt.plot(valid_acc, label='Valid accuracy')\n",
        "plt.plot(train_acc, label='Train accuracy')\n",
        "plt.legend(loc='upper left', title='Accuracy');"
      ],
      "metadata": {
        "id": "Zejm067k3tmC"
      },
      "execution_count": null,
      "outputs": []
    },
    {
      "cell_type": "code",
      "source": [
        "train_features  = []\n",
        "lbls = []\n",
        "for img, lbl in train_dl:\n",
        "  out= model(img.to(device))\n",
        "  lbls.extend(lbl.flatten().tolist() )\n",
        "  train_features.extend(out.flatten(start_dim=1).tolist())\n",
        "\n",
        "test_features  = []\n",
        "files = [] \n",
        "for img, file in test_dl:\n",
        "  out = model(img.to(device))\n",
        "  files.extend(list(file) )\n",
        "  test_features.extend(out.flatten(start_dim=1).tolist())"
      ],
      "metadata": {
        "id": "2B6WI_n9q3YA"
      },
      "execution_count": null,
      "outputs": []
    },
    {
      "cell_type": "code",
      "source": [
        "from sklearn.svm import SVC\n",
        "from sklearn.neighbors import KNeighborsClassifier\n",
        "\n",
        "knn = KNeighborsClassifier(n_neighbors=4).fit(train_features, lbls)\n",
        "knn_preds = knn.predict(test_features)\n",
        "\n",
        "svc = SVC().fit(train_features, lbls)\n",
        "svc_preds = svc.predict(test_features)"
      ],
      "metadata": {
        "id": "C24t-zrNs0vr"
      },
      "execution_count": null,
      "outputs": []
    },
    {
      "cell_type": "markdown",
      "source": [
        "# SVC test accuracy"
      ],
      "metadata": {
        "id": "JqXGmfFp25et"
      }
    },
    {
      "cell_type": "code",
      "source": [
        "submission = pd.DataFrame({'File': files, \"Pred\": svc_preds})\n",
        "submission.File = submission.File.apply(lambda x: x.split(\"/\")[-1])\n",
        "submission.to_csv(\"ResNet_svc_submission.csv\", index=False, header=None)"
      ],
      "metadata": {
        "id": "q2iF1VwYtxJG"
      },
      "execution_count": null,
      "outputs": []
    },
    {
      "cell_type": "markdown",
      "source": [
        "![image.png](data:image/png;base64,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)"
      ],
      "metadata": {
        "id": "NqvE_jeP2-N7"
      }
    },
    {
      "cell_type": "markdown",
      "source": [
        "# KNN test accuracy"
      ],
      "metadata": {
        "id": "1KZH_Rec29j0"
      }
    },
    {
      "cell_type": "code",
      "source": [
        "submission = pd.DataFrame({'File': files, \"Pred\": knn_preds})\n",
        "submission.File = submission.File.apply(lambda x: x.split(\"/\")[-1])\n",
        "submission.to_csv(\"ResNet_KNN_submission.csv\", index=False, header=None)"
      ],
      "metadata": {
        "id": "OuQOstbHtxqa"
      },
      "execution_count": null,
      "outputs": []
    },
    {
      "cell_type": "markdown",
      "source": [
        "![image.png](data:image/png;base64,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)"
      ],
      "metadata": {
        "id": "y_1fDL5yA-Xc"
      }
    },
    {
      "cell_type": "code",
      "source": [],
      "metadata": {
        "id": "ogtZ3asC3OQB"
      },
      "execution_count": null,
      "outputs": []
    }
  ]
}